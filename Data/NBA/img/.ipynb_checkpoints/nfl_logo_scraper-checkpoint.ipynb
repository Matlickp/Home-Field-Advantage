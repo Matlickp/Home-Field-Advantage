{
 "cells": [
  {
   "cell_type": "code",
   "execution_count": 1,
   "metadata": {},
   "outputs": [
    {
     "name": "stdout",
     "output_type": "stream",
     "text": [
      "test\n"
     ]
    }
   ],
   "source": [
    "import os\n",
    "import requests\n",
    "from bs4 import BeautifulSoup\n",
    "from os.path import basename\n",
    "out = os.path.basename('/img/test')\n",
    "print(out)"
   ]
  },
  {
   "cell_type": "code",
   "execution_count": 4,
   "metadata": {},
   "outputs": [
    {
     "name": "stdout",
     "output_type": "stream",
     "text": [
      "/c/Users/Will/Anaconda3/Scripts/chromedriver\n"
     ]
    },
    {
     "ename": "NameError",
     "evalue": "name 'Browser' is not defined",
     "output_type": "error",
     "traceback": [
      "\u001b[1;31m---------------------------------------------------------------------------\u001b[0m",
      "\u001b[1;31mNameError\u001b[0m                                 Traceback (most recent call last)",
      "\u001b[1;32m<ipython-input-4-2c09a45f2b0d>\u001b[0m in \u001b[0;36m<module>\u001b[1;34m\u001b[0m\n\u001b[0;32m      1\u001b[0m \u001b[0mget_ipython\u001b[0m\u001b[1;33m(\u001b[0m\u001b[1;33m)\u001b[0m\u001b[1;33m.\u001b[0m\u001b[0msystem\u001b[0m\u001b[1;33m(\u001b[0m\u001b[1;34m'which chromedriver'\u001b[0m\u001b[1;33m)\u001b[0m\u001b[1;33m\u001b[0m\u001b[1;33m\u001b[0m\u001b[0m\n\u001b[0;32m      2\u001b[0m \u001b[0mexecutable_path\u001b[0m \u001b[1;33m=\u001b[0m \u001b[1;33m{\u001b[0m\u001b[1;34m'executable_path'\u001b[0m\u001b[1;33m:\u001b[0m \u001b[1;34m'../../../Anaconda3/Scripts/chromedriver'\u001b[0m\u001b[1;33m}\u001b[0m\u001b[1;33m\u001b[0m\u001b[1;33m\u001b[0m\u001b[0m\n\u001b[1;32m----> 3\u001b[1;33m \u001b[0mbrowser\u001b[0m \u001b[1;33m=\u001b[0m \u001b[0mBrowser\u001b[0m\u001b[1;33m(\u001b[0m\u001b[1;34m'chrome'\u001b[0m\u001b[1;33m,\u001b[0m \u001b[1;33m**\u001b[0m\u001b[0mexecutable_path\u001b[0m\u001b[1;33m,\u001b[0m \u001b[0mheadless\u001b[0m\u001b[1;33m=\u001b[0m\u001b[1;32mFalse\u001b[0m\u001b[1;33m)\u001b[0m\u001b[1;33m\u001b[0m\u001b[1;33m\u001b[0m\u001b[0m\n\u001b[0m",
      "\u001b[1;31mNameError\u001b[0m: name 'Browser' is not defined"
     ]
    }
   ],
   "source": [
    "!which chromedriver\n",
    "executable_path = {'executable_path': '../../../Anaconda3/Scripts/chromedriver'}\n",
    "browser = Browser('chrome', **executable_path, headless=False)"
   ]
  },
  {
   "cell_type": "code",
   "execution_count": 14,
   "metadata": {},
   "outputs": [
    {
     "ename": "NameError",
     "evalue": "name 'urllib2' is not defined",
     "output_type": "error",
     "traceback": [
      "\u001b[1;31m---------------------------------------------------------------------------\u001b[0m",
      "\u001b[1;31mNameError\u001b[0m                                 Traceback (most recent call last)",
      "\u001b[1;32m<ipython-input-14-049806e88da6>\u001b[0m in \u001b[0;36m<module>\u001b[1;34m\u001b[0m\n\u001b[1;32m----> 1\u001b[1;33m \u001b[0mht\u001b[0m \u001b[1;33m=\u001b[0m \u001b[0murllib2\u001b[0m\u001b[1;33m.\u001b[0m\u001b[0murlopen\u001b[0m\u001b[1;33m(\u001b[0m\u001b[0murl\u001b[0m\u001b[1;33m)\u001b[0m\u001b[1;33m\u001b[0m\u001b[1;33m\u001b[0m\u001b[0m\n\u001b[0m",
      "\u001b[1;31mNameError\u001b[0m: name 'urllib2' is not defined"
     ]
    }
   ],
   "source": [
    "ht = urllib2.urlopen(url)"
   ]
  },
  {
   "cell_type": "code",
   "execution_count": 4,
   "metadata": {},
   "outputs": [
    {
     "name": "stdout",
     "output_type": "stream",
     "text": [
      "[<img alt=\"Atlanta Hawks Logo\" src=\"/assets/thumbs/58419be4a6515b1e0ad75a58.png\"/>, <img alt=\"Boston Celtics Logo\" src=\"/assets/thumbs/58419c6aa6515b1e0ad75a61.png\"/>, <img alt=\"Brooklyn Nets Logo\" src=\"/assets/thumbs/58419c7ba6515b1e0ad75a62.png\"/>, <img alt=\"Charlotte Hornets Logo\" src=\"/assets/thumbs/58419bd7a6515b1e0ad75a57.png\"/>, <img alt=\"Chicago Bulls Logo\" src=\"/assets/thumbs/58419cf6a6515b1e0ad75a6b.png\"/>, <img alt=\"Cleveland Cavaliers Logo\" src=\"/assets/thumbs/58419c8da6515b1e0ad75a63.png\"/>, <img alt=\"Dallas Mavericks Logo\" src=\"/assets/thumbs/58419cd6a6515b1e0ad75a68.png\"/>, <img alt=\"Denver Nuggets Logo\" src=\"/assets/thumbs/58419b70a6515b1e0ad75a50.png\"/>, <img alt=\"Detroit Pistons Logo\" src=\"/assets/thumbs/58419c4ca6515b1e0ad75a5f.png\"/>, <img alt=\"Golden State Warriors Logo\" src=\"/assets/thumbs/58419ce2a6515b1e0ad75a69.png\"/>, <img alt=\"Houston Rockets Logo\" src=\"/assets/thumbs/58419ceda6515b1e0ad75a6a.png\"/>, <img alt=\"Indiana Pacers Logo\" src=\"/assets/thumbs/58419b8da6515b1e0ad75a52.png\"/>]\n",
      "Atlanta Hawks\n",
      "/assets/thumbs/58419be4a6515b1e0ad75a58.png\n",
      "http://www.stickpng.com/assets/thumbs/58419be4a6515b1e0ad75a58.png\n",
      "Boston Celtics\n",
      "/assets/thumbs/58419c6aa6515b1e0ad75a61.png\n",
      "http://www.stickpng.com/assets/thumbs/58419c6aa6515b1e0ad75a61.png\n",
      "Brooklyn Nets\n",
      "/assets/thumbs/58419c7ba6515b1e0ad75a62.png\n",
      "http://www.stickpng.com/assets/thumbs/58419c7ba6515b1e0ad75a62.png\n",
      "Charlotte Hornets\n",
      "/assets/thumbs/58419bd7a6515b1e0ad75a57.png\n",
      "http://www.stickpng.com/assets/thumbs/58419bd7a6515b1e0ad75a57.png\n",
      "Chicago Bulls\n",
      "/assets/thumbs/58419cf6a6515b1e0ad75a6b.png\n",
      "http://www.stickpng.com/assets/thumbs/58419cf6a6515b1e0ad75a6b.png\n",
      "Cleveland Cavaliers\n",
      "/assets/thumbs/58419c8da6515b1e0ad75a63.png\n",
      "http://www.stickpng.com/assets/thumbs/58419c8da6515b1e0ad75a63.png\n",
      "Dallas Mavericks\n",
      "/assets/thumbs/58419cd6a6515b1e0ad75a68.png\n",
      "http://www.stickpng.com/assets/thumbs/58419cd6a6515b1e0ad75a68.png\n",
      "Denver Nuggets\n",
      "/assets/thumbs/58419b70a6515b1e0ad75a50.png\n",
      "http://www.stickpng.com/assets/thumbs/58419b70a6515b1e0ad75a50.png\n",
      "Detroit Pistons\n",
      "/assets/thumbs/58419c4ca6515b1e0ad75a5f.png\n",
      "http://www.stickpng.com/assets/thumbs/58419c4ca6515b1e0ad75a5f.png\n",
      "Golden State Warriors\n",
      "/assets/thumbs/58419ce2a6515b1e0ad75a69.png\n",
      "http://www.stickpng.com/assets/thumbs/58419ce2a6515b1e0ad75a69.png\n",
      "Houston Rockets\n",
      "/assets/thumbs/58419ceda6515b1e0ad75a6a.png\n",
      "http://www.stickpng.com/assets/thumbs/58419ceda6515b1e0ad75a6a.png\n",
      "Indiana Pacers\n",
      "/assets/thumbs/58419b8da6515b1e0ad75a52.png\n",
      "http://www.stickpng.com/assets/thumbs/58419b8da6515b1e0ad75a52.png\n",
      "[<img alt=\"Los Angeles Clippers Logo\" src=\"/assets/thumbs/58419c59a6515b1e0ad75a60.png\"/>, <img alt=\"Los Angeles Lakers Logo\" src=\"/assets/thumbs/58419d0aa6515b1e0ad75a6c.png\"/>, <img alt=\"Memphis Grizzlies Logo\" src=\"/assets/thumbs/58419c00a6515b1e0ad75a5a.png\"/>, <img alt=\"Miami Heat Logo\" src=\"/assets/thumbs/58419cafa6515b1e0ad75a65.png\"/>, <img alt=\"Milwaukee Bucks Logo\" src=\"/assets/thumbs/58419ba7a6515b1e0ad75a54.png\"/>, <img alt=\"Minnesota Timberwolves Logo\" src=\"/assets/thumbs/58419bc5a6515b1e0ad75a56.png\"/>, <img alt=\"New Orleans Pelicans Logo\" src=\"/assets/thumbs/58419b9ba6515b1e0ad75a53.png\"/>, <img alt=\"New York Knicks Logo\" src=\"/assets/thumbs/58419cc8a6515b1e0ad75a67.png\"/>, <img alt=\"Oklahoma City Thunder\" src=\"/assets/thumbs/58419c20a6515b1e0ad75a5c.png\"/>, <img alt=\"Orlando Magic Logo\" src=\"/assets/thumbs/58419b7da6515b1e0ad75a51.png\"/>, <img alt=\"Philadelphia 76ers Logo\" src=\"/assets/thumbs/58419ca3a6515b1e0ad75a64.png\"/>, <img alt=\"Phoenix Suns Logo\" src=\"/assets/thumbs/58419d52a6515b1e0ad75a6d.png\"/>]\n",
      "Los Angeles Clippers\n",
      "/assets/thumbs/58419c59a6515b1e0ad75a60.png\n",
      "http://www.stickpng.com/assets/thumbs/58419c59a6515b1e0ad75a60.png\n",
      "Los Angeles Lakers\n",
      "/assets/thumbs/58419d0aa6515b1e0ad75a6c.png\n",
      "http://www.stickpng.com/assets/thumbs/58419d0aa6515b1e0ad75a6c.png\n",
      "Memphis Grizzlies\n",
      "/assets/thumbs/58419c00a6515b1e0ad75a5a.png\n",
      "http://www.stickpng.com/assets/thumbs/58419c00a6515b1e0ad75a5a.png\n",
      "Miami Heat\n",
      "/assets/thumbs/58419cafa6515b1e0ad75a65.png\n",
      "http://www.stickpng.com/assets/thumbs/58419cafa6515b1e0ad75a65.png\n",
      "Milwaukee Bucks\n",
      "/assets/thumbs/58419ba7a6515b1e0ad75a54.png\n",
      "http://www.stickpng.com/assets/thumbs/58419ba7a6515b1e0ad75a54.png\n",
      "Minnesota Timberwolves\n",
      "/assets/thumbs/58419bc5a6515b1e0ad75a56.png\n",
      "http://www.stickpng.com/assets/thumbs/58419bc5a6515b1e0ad75a56.png\n",
      "New Orleans Pelicans\n",
      "/assets/thumbs/58419b9ba6515b1e0ad75a53.png\n",
      "http://www.stickpng.com/assets/thumbs/58419b9ba6515b1e0ad75a53.png\n",
      "New York Knicks\n",
      "/assets/thumbs/58419cc8a6515b1e0ad75a67.png\n",
      "http://www.stickpng.com/assets/thumbs/58419cc8a6515b1e0ad75a67.png\n",
      "Oklahoma City\n",
      "/assets/thumbs/58419c20a6515b1e0ad75a5c.png\n",
      "http://www.stickpng.com/assets/thumbs/58419c20a6515b1e0ad75a5c.png\n",
      "Orlando Magic\n",
      "/assets/thumbs/58419b7da6515b1e0ad75a51.png\n",
      "http://www.stickpng.com/assets/thumbs/58419b7da6515b1e0ad75a51.png\n",
      "Philadelphia 76ers\n",
      "/assets/thumbs/58419ca3a6515b1e0ad75a64.png\n",
      "http://www.stickpng.com/assets/thumbs/58419ca3a6515b1e0ad75a64.png\n",
      "Phoenix Suns\n",
      "/assets/thumbs/58419d52a6515b1e0ad75a6d.png\n",
      "http://www.stickpng.com/assets/thumbs/58419d52a6515b1e0ad75a6d.png\n",
      "[<img alt=\"Portland Trail Blazers Logo\" src=\"/assets/thumbs/58419c2fa6515b1e0ad75a5d.png\"/>, <img alt=\"Sacramento Kings Logo\" src=\"/assets/thumbs/58419c3da6515b1e0ad75a5e.png\"/>, <img alt=\"San Antonio Spurs Logo\" src=\"/assets/thumbs/58419cbca6515b1e0ad75a66.png\"/>, <img alt=\"Seattle Supersonics Logo\" src=\"/assets/thumbs/5a2d99c2bf4f3e2f8b6e4418.png\"/>, <img alt=\"Toronto Raptors Logo\" src=\"/assets/thumbs/58419bf3a6515b1e0ad75a59.png\"/>, <img alt=\"Utah Jazz Logo\" src=\"/assets/thumbs/58419bb6a6515b1e0ad75a55.png\"/>, <img alt=\"Washington Wizards Logo\" src=\"/assets/thumbs/58419c12a6515b1e0ad75a5b.png\"/>]\n",
      "Portland Trail Blazers\n",
      "/assets/thumbs/58419c2fa6515b1e0ad75a5d.png\n",
      "http://www.stickpng.com/assets/thumbs/58419c2fa6515b1e0ad75a5d.png\n",
      "Sacramento Kings\n",
      "/assets/thumbs/58419c3da6515b1e0ad75a5e.png\n",
      "http://www.stickpng.com/assets/thumbs/58419c3da6515b1e0ad75a5e.png\n",
      "San Antonio Spurs\n",
      "/assets/thumbs/58419cbca6515b1e0ad75a66.png\n",
      "http://www.stickpng.com/assets/thumbs/58419cbca6515b1e0ad75a66.png\n",
      "Seattle Supersonics\n",
      "/assets/thumbs/5a2d99c2bf4f3e2f8b6e4418.png\n",
      "http://www.stickpng.com/assets/thumbs/5a2d99c2bf4f3e2f8b6e4418.png\n",
      "Toronto Raptors\n",
      "/assets/thumbs/58419bf3a6515b1e0ad75a59.png\n",
      "http://www.stickpng.com/assets/thumbs/58419bf3a6515b1e0ad75a59.png\n",
      "Utah Jazz\n",
      "/assets/thumbs/58419bb6a6515b1e0ad75a55.png\n",
      "http://www.stickpng.com/assets/thumbs/58419bb6a6515b1e0ad75a55.png\n",
      "Washington Wizards\n",
      "/assets/thumbs/58419c12a6515b1e0ad75a5b.png\n",
      "http://www.stickpng.com/assets/thumbs/58419c12a6515b1e0ad75a5b.png\n"
     ]
    }
   ],
   "source": [
    "links = ['http://www.stickpng.com/cat/sports/basketball/nba-teams?page=1',\n",
    "            'http://www.stickpng.com/cat/sports/basketball/nba-teams?page=2',\n",
    "           'http://www.stickpng.com/cat/sports/basketball/nba-teams?page=3']\n",
    "for link in links:\n",
    "    \n",
    "    html = requests.get(link) \n",
    "    soup = BeautifulSoup(html.text, \"html.parser\")\n",
    "\n",
    "    ul = soup.find(\"section\", class_ = \"grid grid-flexible clearfix\")\n",
    "    # print(ul)\n",
    "    a = ul.find_all(\"img\")\n",
    "    print(a)\n",
    "\n",
    "\n",
    "\n",
    "    for b in a:\n",
    "        teamname = b['alt'].rsplit(None, 1)\n",
    "        print(teamname[0])\n",
    "    #     img = b.find(\"img\")\n",
    "        img = b['src']\n",
    "        print(img)\n",
    "        imglink = f\"http://www.stickpng.com{img}\"\n",
    "        print(imglink)\n",
    "        with open(basename(teamname[0]+\".png\"), \"wb\") as f:\n",
    "            f.write(requests.get(imglink).content)\n"
   ]
  }
 ],
 "metadata": {
  "kernelspec": {
   "display_name": "Python 3",
   "language": "python",
   "name": "python3"
  },
  "language_info": {
   "codemirror_mode": {
    "name": "ipython",
    "version": 3
   },
   "file_extension": ".py",
   "mimetype": "text/x-python",
   "name": "python",
   "nbconvert_exporter": "python",
   "pygments_lexer": "ipython3",
   "version": "3.6.7"
  }
 },
 "nbformat": 4,
 "nbformat_minor": 2
}
