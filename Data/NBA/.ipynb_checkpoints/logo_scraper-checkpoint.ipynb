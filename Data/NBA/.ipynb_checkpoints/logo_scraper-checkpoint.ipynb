{
 "cells": [
  {
   "cell_type": "code",
   "execution_count": 35,
   "metadata": {},
   "outputs": [
    {
     "name": "stdout",
     "output_type": "stream",
     "text": [
      "test\n"
     ]
    }
   ],
   "source": [
    "import os\n",
    "import requests\n",
    "from bs4 import BeautifulSoup\n",
    "from os.path import basename\n",
    "out = os.path.basename('/img/test')\n",
    "print(out)"
   ]
  },
  {
   "cell_type": "code",
   "execution_count": 13,
   "metadata": {},
   "outputs": [
    {
     "name": "stdout",
     "output_type": "stream",
     "text": [
      "/c/Users/Will/Anaconda3/Scripts/chromedriver\n"
     ]
    }
   ],
   "source": [
    "!which chromedriver\n",
    "executable_path = {'executable_path': '../../../Anaconda3/Scripts/chromedriver'}\n",
    "browser = Browser('chrome', **executable_path, headless=False)"
   ]
  },
  {
   "cell_type": "code",
   "execution_count": 14,
   "metadata": {},
   "outputs": [
    {
     "ename": "NameError",
     "evalue": "name 'urllib2' is not defined",
     "output_type": "error",
     "traceback": [
      "\u001b[1;31m---------------------------------------------------------------------------\u001b[0m",
      "\u001b[1;31mNameError\u001b[0m                                 Traceback (most recent call last)",
      "\u001b[1;32m<ipython-input-14-049806e88da6>\u001b[0m in \u001b[0;36m<module>\u001b[1;34m\u001b[0m\n\u001b[1;32m----> 1\u001b[1;33m \u001b[0mht\u001b[0m \u001b[1;33m=\u001b[0m \u001b[0murllib2\u001b[0m\u001b[1;33m.\u001b[0m\u001b[0murlopen\u001b[0m\u001b[1;33m(\u001b[0m\u001b[0murl\u001b[0m\u001b[1;33m)\u001b[0m\u001b[1;33m\u001b[0m\u001b[1;33m\u001b[0m\u001b[0m\n\u001b[0m",
      "\u001b[1;31mNameError\u001b[0m: name 'urllib2' is not defined"
     ]
    }
   ],
   "source": [
    "ht = urllib2.urlopen(url)"
   ]
  },
  {
   "cell_type": "code",
   "execution_count": 30,
   "metadata": {},
   "outputs": [
    {
     "name": "stdout",
     "output_type": "stream",
     "text": [
      "Atlanta Hawks Logos\n",
      "http://content.sportslogos.net/logos/6/220/thumbs/22091682016.gif\n",
      "Boston Celtics Logos\n",
      "http://content.sportslogos.net/logos/6/213/thumbs/slhg02hbef3j1ov4lsnwyol5o.gif\n",
      "Brooklyn Nets Logos\n",
      "http://content.sportslogos.net/logos/6/3786/thumbs/hsuff5m3dgiv20kovde422r1f.gif\n",
      "Charlotte Hornets Logos\n",
      "http://content.sportslogos.net/logos/6/5120/thumbs/512019262015.gif\n",
      "Chicago Bulls Logos\n",
      "http://content.sportslogos.net/logos/6/221/thumbs/hj3gmh82w9hffmeh3fjm5h874.gif\n",
      "Cleveland Cavaliers Logos\n",
      "http://content.sportslogos.net/logos/6/222/thumbs/22269212018.gif\n",
      "Dallas Mavericks Logos\n",
      "http://content.sportslogos.net/logos/6/228/thumbs/22834632018.gif\n",
      "Denver Nuggets Logos\n",
      "http://content.sportslogos.net/logos/6/229/thumbs/22989262019.gif\n",
      "Detroit Pistons Logos\n",
      "http://content.sportslogos.net/logos/6/223/thumbs/22321642018.gif\n",
      "Golden State Warriors Logos\n",
      "http://content.sportslogos.net/logos/6/235/thumbs/qhhir6fj8zp30f33s7sfb4yw0.gif\n",
      "Houston Rockets Logos\n",
      "http://content.sportslogos.net/logos/6/230/thumbs/8xe4813lzybfhfl14axgzzqeq.gif\n",
      "Indiana Pacers Logos\n",
      "http://content.sportslogos.net/logos/6/224/thumbs/22448122018.gif\n",
      "Los Angeles Clippers Logos\n",
      "http://content.sportslogos.net/logos/6/236/thumbs/23654622016.gif\n",
      "Los Angeles Lakers Logos\n",
      "http://content.sportslogos.net/logos/6/237/thumbs/uig7aiht8jnpl1szbi57zzlsh.gif\n",
      "Memphis Grizzlies Logos\n",
      "http://content.sportslogos.net/logos/6/231/thumbs/23143732019.gif\n",
      "Miami Heat Logos\n",
      "http://content.sportslogos.net/logos/6/214/thumbs/burm5gh2wvjti3xhei5h16k8e.gif\n",
      "Milwaukee Bucks Logos\n",
      "http://content.sportslogos.net/logos/6/225/thumbs/22582752016.gif\n",
      "Minnesota Timberwolves Logos\n",
      "http://content.sportslogos.net/logos/6/232/thumbs/23296692018.gif\n",
      "New Orleans Pelicans Logos\n",
      "http://content.sportslogos.net/logos/6/4962/thumbs/496226812014.gif\n",
      "New York Knicks Logos\n",
      "http://content.sportslogos.net/logos/6/216/thumbs/2nn48xofg0hms8k326cqdmuis.gif\n",
      "Oklahoma City Thunder Logos\n",
      "http://content.sportslogos.net/logos/6/2687/thumbs/khmovcnezy06c3nm05ccn0oj2.gif\n",
      "Orlando Magic Logos\n",
      "http://content.sportslogos.net/logos/6/217/thumbs/wd9ic7qafgfb0yxs7tem7n5g4.gif\n",
      "Philadelphia 76ers Logos\n",
      "http://content.sportslogos.net/logos/6/218/thumbs/21870342016.gif\n",
      "Phoenix Suns Logos\n",
      "http://content.sportslogos.net/logos/6/238/thumbs/23843702014.gif\n",
      "Portland Trail Blazers Logos\n",
      "http://content.sportslogos.net/logos/6/239/thumbs/23997252018.gif\n",
      "Sacramento Kings Logos\n",
      "http://content.sportslogos.net/logos/6/240/thumbs/24040432017.gif\n",
      "San Antonio Spurs Logos\n",
      "http://content.sportslogos.net/logos/6/233/thumbs/23325472018.gif\n",
      "Toronto Raptors Logos\n",
      "http://content.sportslogos.net/logos/6/227/thumbs/22745782016.gif\n",
      "Utah Jazz Logos\n",
      "http://content.sportslogos.net/logos/6/234/thumbs/23467492017.gif\n",
      "Washington Wizards Logos\n",
      "http://content.sportslogos.net/logos/6/219/thumbs/21956712016.gif\n"
     ]
    }
   ],
   "source": [
    "link = 'http://www.sportslogos.net/teams/list_by_league/6/National_Basketball_Association/NBA/logos/'\n",
    "html = requests.get(link) \n",
    "soup = BeautifulSoup(html.text, \"html.parser\")\n",
    "\n",
    "ul = soup.find(\"ul\", class_= \"logoWall\")\n",
    "a = ul.find_all(\"a\")\n",
    "\n",
    "\n",
    "\n",
    "for b in a:\n",
    "    teamname = b['title']\n",
    "    print(teamname)\n",
    "    img = b.find(\"img\")\n",
    "    imglink = img['src']\n",
    "    print(imglink)\n",
    "#     with open(basename(imglink), \"wb\") as f:\n",
    "#         f.write(requests.get(imglink).content)\n",
    "    "
   ]
  }
 ],
 "metadata": {
  "kernelspec": {
   "display_name": "Python 3",
   "language": "python",
   "name": "python3"
  },
  "language_info": {
   "codemirror_mode": {
    "name": "ipython",
    "version": 3
   },
   "file_extension": ".py",
   "mimetype": "text/x-python",
   "name": "python",
   "nbconvert_exporter": "python",
   "pygments_lexer": "ipython3",
   "version": "3.6.7"
  }
 },
 "nbformat": 4,
 "nbformat_minor": 2
}
