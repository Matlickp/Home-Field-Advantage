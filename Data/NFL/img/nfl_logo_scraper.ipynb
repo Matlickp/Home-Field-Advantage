{
 "cells": [
  {
   "cell_type": "code",
   "execution_count": 1,
   "metadata": {},
   "outputs": [
    {
     "name": "stdout",
     "output_type": "stream",
     "text": [
      "test\n"
     ]
    }
   ],
   "source": [
    "import os\n",
    "import requests\n",
    "from bs4 import BeautifulSoup\n",
    "from os.path import basename\n",
    "out = os.path.basename('/img/test')\n",
    "print(out)"
   ]
  },
  {
   "cell_type": "code",
   "execution_count": 4,
   "metadata": {},
   "outputs": [
    {
     "name": "stdout",
     "output_type": "stream",
     "text": [
      "/c/Users/Will/Anaconda3/Scripts/chromedriver\n"
     ]
    },
    {
     "ename": "NameError",
     "evalue": "name 'Browser' is not defined",
     "output_type": "error",
     "traceback": [
      "\u001b[1;31m---------------------------------------------------------------------------\u001b[0m",
      "\u001b[1;31mNameError\u001b[0m                                 Traceback (most recent call last)",
      "\u001b[1;32m<ipython-input-4-2c09a45f2b0d>\u001b[0m in \u001b[0;36m<module>\u001b[1;34m\u001b[0m\n\u001b[0;32m      1\u001b[0m \u001b[0mget_ipython\u001b[0m\u001b[1;33m(\u001b[0m\u001b[1;33m)\u001b[0m\u001b[1;33m.\u001b[0m\u001b[0msystem\u001b[0m\u001b[1;33m(\u001b[0m\u001b[1;34m'which chromedriver'\u001b[0m\u001b[1;33m)\u001b[0m\u001b[1;33m\u001b[0m\u001b[1;33m\u001b[0m\u001b[0m\n\u001b[0;32m      2\u001b[0m \u001b[0mexecutable_path\u001b[0m \u001b[1;33m=\u001b[0m \u001b[1;33m{\u001b[0m\u001b[1;34m'executable_path'\u001b[0m\u001b[1;33m:\u001b[0m \u001b[1;34m'../../../Anaconda3/Scripts/chromedriver'\u001b[0m\u001b[1;33m}\u001b[0m\u001b[1;33m\u001b[0m\u001b[1;33m\u001b[0m\u001b[0m\n\u001b[1;32m----> 3\u001b[1;33m \u001b[0mbrowser\u001b[0m \u001b[1;33m=\u001b[0m \u001b[0mBrowser\u001b[0m\u001b[1;33m(\u001b[0m\u001b[1;34m'chrome'\u001b[0m\u001b[1;33m,\u001b[0m \u001b[1;33m**\u001b[0m\u001b[0mexecutable_path\u001b[0m\u001b[1;33m,\u001b[0m \u001b[0mheadless\u001b[0m\u001b[1;33m=\u001b[0m\u001b[1;32mFalse\u001b[0m\u001b[1;33m)\u001b[0m\u001b[1;33m\u001b[0m\u001b[1;33m\u001b[0m\u001b[0m\n\u001b[0m",
      "\u001b[1;31mNameError\u001b[0m: name 'Browser' is not defined"
     ]
    }
   ],
   "source": [
    "!which chromedriver\n",
    "executable_path = {'executable_path': '../../../Anaconda3/Scripts/chromedriver'}\n",
    "browser = Browser('chrome', **executable_path, headless=False)"
   ]
  },
  {
   "cell_type": "code",
   "execution_count": 14,
   "metadata": {},
   "outputs": [
    {
     "ename": "NameError",
     "evalue": "name 'urllib2' is not defined",
     "output_type": "error",
     "traceback": [
      "\u001b[1;31m---------------------------------------------------------------------------\u001b[0m",
      "\u001b[1;31mNameError\u001b[0m                                 Traceback (most recent call last)",
      "\u001b[1;32m<ipython-input-14-049806e88da6>\u001b[0m in \u001b[0;36m<module>\u001b[1;34m\u001b[0m\n\u001b[1;32m----> 1\u001b[1;33m \u001b[0mht\u001b[0m \u001b[1;33m=\u001b[0m \u001b[0murllib2\u001b[0m\u001b[1;33m.\u001b[0m\u001b[0murlopen\u001b[0m\u001b[1;33m(\u001b[0m\u001b[0murl\u001b[0m\u001b[1;33m)\u001b[0m\u001b[1;33m\u001b[0m\u001b[1;33m\u001b[0m\u001b[0m\n\u001b[0m",
      "\u001b[1;31mNameError\u001b[0m: name 'urllib2' is not defined"
     ]
    }
   ],
   "source": [
    "ht = urllib2.urlopen(url)"
   ]
  },
  {
   "cell_type": "code",
   "execution_count": 30,
   "metadata": {},
   "outputs": [
    {
     "name": "stdout",
     "output_type": "stream",
     "text": [
      "http://loodibee.com/wp-content/uploads/nfl-arizona-cardinals-team-logo-2-300x300.png\n",
      "Arizona Cardinals\n",
      "http://loodibee.com/wp-content/uploads/nfl-atlanta-falcons-team-logo-2-300x300.png\n",
      "Atlanta Falcons\n",
      "http://loodibee.com/wp-content/uploads/nfl-baltimore-ravens-team-logo-2-300x300.png\n",
      "Baltimore Ravens\n",
      "http://loodibee.com/wp-content/uploads/nfl-buffalo-bills-team-logo-2-300x300.png\n",
      "Buffalo Bills\n",
      "http://loodibee.com/wp-content/uploads/nfl-carolina-panthers-team-logo-2-300x300.png\n",
      "Carolina Panthers\n",
      "http://loodibee.com/wp-content/uploads/nfl-chicago-bears-team-logo-2-300x300.png\n",
      "Chicago Bears\n",
      "http://loodibee.com/wp-content/uploads/nfl-cincinnati-bengals-team-logo-300x300.png\n",
      "Cincinnati Bengals\n",
      "http://loodibee.com/wp-content/uploads/nfl-cleveland-browns-team-logo-2-300x300.png\n",
      "Cleveland Browns\n",
      "http://loodibee.com/wp-content/uploads/nfl-dallas-cowboys-team-logo-2-300x300.png\n",
      "Dallas Cowboys\n",
      "http://loodibee.com/wp-content/uploads/nfl-denver-broncos-team-logo-2-300x300.png\n",
      "Denver Broncos\n",
      "http://loodibee.com/wp-content/uploads/nfl-detroit-lions-team-logo-2-300x300.png\n",
      "Detroit Lions\n",
      "http://loodibee.com/wp-content/uploads/nfl-green-bay-packers-team-logo-2-300x300.png\n",
      "Green Bay Packers\n",
      "http://loodibee.com/wp-content/uploads/nfl-houston-texans-team-logo-2-300x300.png\n",
      "Houston Texans\n",
      "http://loodibee.com/wp-content/uploads/nfl-indianapolis-colts-team-logo-2-300x300.png\n",
      "Indianapolis Colts\n",
      "http://loodibee.com/wp-content/uploads/nfl-jacksonville-jaguars-team-logo-2-300x300.png\n",
      "Jacksonville Jaguars\n",
      "http://loodibee.com/wp-content/uploads/nfl-kansas-city-chiefs-team-logo-2-300x300.png\n",
      "Kansas City Chiefs\n",
      "http://loodibee.com/wp-content/uploads/nfl-los-angeles-chargers-team-logo-2-300x300.png\n",
      "Los Angeles Rams\n",
      "http://loodibee.com/wp-content/uploads/nfl-los-angeles-rams-team-logo-2-300x300.png\n",
      "Los Angeles\n",
      "http://loodibee.com/wp-content/uploads/nfl-miami-dolphins-logo-2018-300x300.png\n",
      "Miami Dolphins\n",
      "http://loodibee.com/wp-content/uploads/nfl-minnesota-vikings-team-logo-2-300x300.png\n",
      "Minnesota Vikings\n",
      "http://loodibee.com/wp-content/uploads/nfl-new-england-patriots-team-logo-2-300x300.png\n",
      "New England Patriots\n",
      "http://loodibee.com/wp-content/uploads/nfl-new-orleans-saints-team-logo-2-300x300.png\n",
      "New Orleans Saints\n",
      "http://loodibee.com/wp-content/uploads/nfl-new-york-giants-team-logo-2-300x300.png\n",
      "New York Giants\n",
      "http://loodibee.com/wp-content/uploads/nfl-new-york-jets-team-logo-300x300.png\n",
      "New York Jets\n",
      "http://loodibee.com/wp-content/uploads/nfl-oakland-raiders-team-logo-300x300.png\n",
      "Oakland Raiders\n",
      "http://loodibee.com/wp-content/uploads/nfl-philadelphia-eagles-team-logo-2-300x300.png\n",
      "Philadelphia Eagles\n",
      "http://loodibee.com/wp-content/uploads/nfl-pittsburgh-steelers-team-logo-2-300x300.png\n",
      "Pittsburgh Steelers\n",
      "http://loodibee.com/wp-content/uploads/nfl-san-francisco-49ers-team-logo-2-300x300.png\n",
      "San Francisco 49ers\n",
      "http://loodibee.com/wp-content/uploads/nfl-seattle-seahawks-team-logo-2-300x300.png\n",
      "Seattle Seahawks\n",
      "http://loodibee.com/wp-content/uploads/nfl-tampa-bay-buccaneers-team-logo-2-300x300.png\n",
      "Tampa Bay Buccaneers\n",
      "http://loodibee.com/wp-content/uploads/nfl-tennessee-titans-team-logo-2-300x300.png\n",
      "Tennessee Titans\n",
      "http://loodibee.com/wp-content/uploads/nfl-washington-redskins-team-logo-2-300x300.png\n",
      "Washington Redskins\n",
      "http://loodibee.com/wp-content/uploads/nfl-league-logo-300x300.png\n",
      "NFL league\n",
      "http://loodibee.com/wp-content/uploads/nfl-afc-American_Football_Conference_logo-300x300.png\n",
      "AFC American Football\n",
      "http://loodibee.com/wp-content/uploads/nfl-nfc-National_Football_Conference_logo-300x300.png\n",
      "NFC National Football\n"
     ]
    }
   ],
   "source": [
    "link = 'http://loodibee.com/nfl/'\n",
    "\n",
    "\n",
    "    \n",
    "html = requests.get(link) \n",
    "soup = BeautifulSoup(html.text, \"html.parser\")\n",
    "div = soup.find_all(\"img\")\n",
    "# print(div)\n",
    "i = 0\n",
    "for d in div:\n",
    "    \n",
    "    i += 1\n",
    "    if i > 2:\n",
    "        print(d['src'])\n",
    "        imglink = d['src']\n",
    "        teamname = d['alt'].rsplit(None, 3)\n",
    "        print(teamname[0])\n",
    "        \n",
    "        with open(basename(teamname[0]+\".png\"), \"wb\") as f:\n",
    "            f.write(requests.get(imglink).content)\n",
    "\n",
    "# ul = div.find_all(\"figure\", class_ = \"wp-caption alignnone\")\n",
    "# print(ul)\n",
    "# a = ul.find_all(\"a\")\n",
    "# print(a)\n",
    "\n",
    "\n",
    "\n",
    "# for b in a:\n",
    "#     teamname = b['alt'].rsplit(None, 3)\n",
    "#     print(teamname[0])\n",
    "# #     img = b.find(\"img\")\n",
    "#     img = b['src']\n",
    "#     print(img)\n",
    "#     imglink = f\"http://www.stickpng.com{img}\"\n",
    "#     print(imglink)\n",
    "# #         with open(basename(teamname[0]+\".png\"), \"wb\") as f:\n",
    "# #             f.write(requests.get(imglink).content)\n"
   ]
  }
 ],
 "metadata": {
  "kernelspec": {
   "display_name": "Python 3",
   "language": "python",
   "name": "python3"
  },
  "language_info": {
   "codemirror_mode": {
    "name": "ipython",
    "version": 3
   },
   "file_extension": ".py",
   "mimetype": "text/x-python",
   "name": "python",
   "nbconvert_exporter": "python",
   "pygments_lexer": "ipython3",
   "version": "3.6.7"
  }
 },
 "nbformat": 4,
 "nbformat_minor": 2
}
