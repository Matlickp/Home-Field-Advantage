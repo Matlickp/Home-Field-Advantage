{
 "cells": [
  {
   "cell_type": "code",
   "execution_count": 28,
   "metadata": {
    "init_cell": true
   },
   "outputs": [],
   "source": [
    "import pandas as pd\n",
    "import numpy as np\n",
    "import matplotlib.pyplot as plt\n"
   ]
  },
  {
   "cell_type": "code",
   "execution_count": 60,
   "metadata": {},
   "outputs": [
    {
     "data": {
      "text/html": [
       "<div>\n",
       "<style scoped>\n",
       "    .dataframe tbody tr th:only-of-type {\n",
       "        vertical-align: middle;\n",
       "    }\n",
       "\n",
       "    .dataframe tbody tr th {\n",
       "        vertical-align: top;\n",
       "    }\n",
       "\n",
       "    .dataframe thead th {\n",
       "        text-align: right;\n",
       "    }\n",
       "</style>\n",
       "<table border=\"1\" class=\"dataframe\">\n",
       "  <thead>\n",
       "    <tr style=\"text-align: right;\">\n",
       "      <th></th>\n",
       "      <th>date</th>\n",
       "      <th>season</th>\n",
       "      <th>home</th>\n",
       "      <th>away</th>\n",
       "      <th>lat</th>\n",
       "      <th>long</th>\n",
       "      <th>score1</th>\n",
       "      <th>score2</th>\n",
       "      <th>result</th>\n",
       "    </tr>\n",
       "  </thead>\n",
       "  <tbody>\n",
       "    <tr>\n",
       "      <th>1330</th>\n",
       "      <td>1/15/2017</td>\n",
       "      <td>2016</td>\n",
       "      <td>DAL</td>\n",
       "      <td>GB</td>\n",
       "      <td>32.47 N</td>\n",
       "      <td>-96.48 W</td>\n",
       "      <td>31</td>\n",
       "      <td>34</td>\n",
       "      <td>Loss</td>\n",
       "    </tr>\n",
       "    <tr>\n",
       "      <th>1331</th>\n",
       "      <td>1/15/2017</td>\n",
       "      <td>2016</td>\n",
       "      <td>KC</td>\n",
       "      <td>PIT</td>\n",
       "      <td>39.06 N</td>\n",
       "      <td>-94.37 W</td>\n",
       "      <td>16</td>\n",
       "      <td>18</td>\n",
       "      <td>Loss</td>\n",
       "    </tr>\n",
       "    <tr>\n",
       "      <th>1332</th>\n",
       "      <td>1/22/2017</td>\n",
       "      <td>2016</td>\n",
       "      <td>ATL</td>\n",
       "      <td>GB</td>\n",
       "      <td>33.45 N</td>\n",
       "      <td>-84.23 W</td>\n",
       "      <td>44</td>\n",
       "      <td>21</td>\n",
       "      <td>Win</td>\n",
       "    </tr>\n",
       "    <tr>\n",
       "      <th>1333</th>\n",
       "      <td>1/22/2017</td>\n",
       "      <td>2016</td>\n",
       "      <td>NE</td>\n",
       "      <td>PIT</td>\n",
       "      <td>42.21 N</td>\n",
       "      <td>-71.04 W</td>\n",
       "      <td>36</td>\n",
       "      <td>17</td>\n",
       "      <td>Win</td>\n",
       "    </tr>\n",
       "    <tr>\n",
       "      <th>1334</th>\n",
       "      <td>2/5/2017</td>\n",
       "      <td>2016</td>\n",
       "      <td>ATL</td>\n",
       "      <td>NE</td>\n",
       "      <td>33.45 N</td>\n",
       "      <td>-84.23 W</td>\n",
       "      <td>28</td>\n",
       "      <td>34</td>\n",
       "      <td>Loss</td>\n",
       "    </tr>\n",
       "  </tbody>\n",
       "</table>\n",
       "</div>"
      ],
      "text/plain": [
       "           date  season home away      lat      long  score1  score2 result\n",
       "1330  1/15/2017    2016  DAL   GB  32.47 N  -96.48 W      31      34   Loss\n",
       "1331  1/15/2017    2016   KC  PIT  39.06 N  -94.37 W      16      18   Loss\n",
       "1332  1/22/2017    2016  ATL   GB  33.45 N  -84.23 W      44      21    Win\n",
       "1333  1/22/2017    2016   NE  PIT  42.21 N  -71.04 W      36      17    Win\n",
       "1334   2/5/2017    2016  ATL   NE  33.45 N  -84.23 W      28      34   Loss"
      ]
     },
     "execution_count": 60,
     "metadata": {},
     "output_type": "execute_result"
    }
   ],
   "source": [
    "games_file = pd.read_csv(\"nfl_games.csv\")\n",
    "games_file.tail()"
   ]
  },
  {
   "cell_type": "code",
   "execution_count": null,
   "metadata": {},
   "outputs": [],
   "source": [
    " "
   ]
  }
 ],
 "metadata": {
  "celltoolbar": "Initialization Cell",
  "kernelspec": {
   "display_name": "Python 3",
   "language": "python",
   "name": "python3"
  },
  "language_info": {
   "codemirror_mode": {
    "name": "ipython",
    "version": 3
   },
   "file_extension": ".py",
   "mimetype": "text/x-python",
   "name": "python",
   "nbconvert_exporter": "python",
   "pygments_lexer": "ipython3",
   "version": "3.7.0"
  },
  "toc": {
   "base_numbering": 1,
   "nav_menu": {},
   "number_sections": true,
   "sideBar": true,
   "skip_h1_title": false,
   "title_cell": "Table of Contents",
   "title_sidebar": "Contents",
   "toc_cell": false,
   "toc_position": {},
   "toc_section_display": true,
   "toc_window_display": false
  }
 },
 "nbformat": 4,
 "nbformat_minor": 2
}
